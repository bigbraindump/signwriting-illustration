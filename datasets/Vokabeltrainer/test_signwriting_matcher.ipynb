{
 "cells": [
  {
   "cell_type": "markdown",
   "metadata": {},
   "source": [
    "This script is used to calculate the clip score for FSW images (References) and generated images (Candidates)."
   ]
  },
  {
   "cell_type": "code",
   "execution_count": 1,
   "metadata": {},
   "outputs": [],
   "source": [
    "# imports and libraries\n",
    "import numpy as np\n",
    "\n",
    "from tqdm import tqdm\n",
    "from pathlib import Path\n",
    "from PIL import Image, ImageDraw\n",
    "from IPython.display import display, clear_output\n",
    "from signwriting.visualizer.visualize import signwriting_to_image\n",
    "from signwriting_evaluation.metrics.clip import SignWritingCLIPScore, signwriting_to_clip_image"
   ]
  },
  {
   "cell_type": "code",
   "execution_count": 2,
   "metadata": {},
   "outputs": [],
   "source": [
    "# helper function\n",
    "\n",
    "def create_side_by_side_comparison(reference_image, candidate_image, score, ref_stem, cand_key):\n",
    "    side_by_side = Image.new('RGB', (reference_image.width * 2, reference_image.height), (255, 255, 255))\n",
    "    \n",
    "    side_by_side.paste(reference_image, (0, 0))\n",
    "    side_by_side.paste(candidate_image, (reference_image.width, 0))\n",
    "    \n",
    "    draw = ImageDraw.Draw(side_by_side)\n",
    "    draw.text((0, 0), f\"{score:.3f}\", fill=(255, 0, 0))\n",
    "    draw.text((0, 20), f\"Ref: {ref_stem}\", fill=(255, 0, 0))\n",
    "    draw.text((reference_image.width, 0), f\"Cand: {cand_key}\", fill=(255, 0, 0))\n",
    "    \n",
    "    return side_by_side\n",
    "\n",
    "\n",
    "def manual_review(reference_img, candidate_img, score, ref_stem, cand_key):\n",
    "    while True:\n",
    "        clear_output(wait=True)\n",
    "        side_by_side = create_side_by_side_comparison(\n",
    "            reference_img,\n",
    "            candidate_img,\n",
    "            score,\n",
    "            ref_stem,\n",
    "            cand_key\n",
    "        )\n",
    "        display(side_by_side)\n",
    "        \n",
    "        response = input(\"Accept this match? (y/n): \").lower()\n",
    "        if response in ['y', 'n']:\n",
    "            return response == 'y'\n",
    "        print(\"Please enter 'y' or 'n'\")"
   ]
  },
  {
   "cell_type": "code",
   "execution_count": 3,
   "metadata": {},
   "outputs": [],
   "source": [
    "# load image functions\n",
    "\n",
    "def load_candidate_images(directory: Path):\n",
    "    images = {}\n",
    "    for image in tqdm(list(directory.glob('*.png'))):\n",
    "        try:\n",
    "            # binarization \n",
    "            img = Image.open(image).convert('L')\n",
    "            img = img.point(lambda x: 255 if x > 127 else 0, '1')\n",
    "            img = img.convert('L')\n",
    "            images[image.stem] = img\n",
    "        except Exception as e:\n",
    "            print(f\"Error processing {image}: {e}\")\n",
    "    return images\n",
    "\n",
    "\n",
    "def load_gold_images(directory: Path):\n",
    "    target_size = (256, 256)\n",
    "    images = {}\n",
    "    for image in tqdm(list(directory.glob('*.png'))):\n",
    "        try:\n",
    "            img = Image.open(image).convert('RGBA')\n",
    "            \n",
    "            # scale down the image\n",
    "            scale_factor = 0.42\n",
    "            max_dimension = max(img.width, img.height)\n",
    "            scale = (target_size[0] * scale_factor) / max_dimension\n",
    "            new_size = (int(img.width * scale), int(img.height * scale))\n",
    "            img = img.resize(new_size, Image.LANCZOS)\n",
    "            \n",
    "            # create white background and center the image\n",
    "            background = Image.new('RGBA', target_size, (255, 255, 255, 255))\n",
    "            offset = ((target_size[0] - new_size[0]) // 2, \n",
    "                     (target_size[1] - new_size[1]) // 2)\n",
    "            background.paste(img, offset, img)\n",
    "            \n",
    "            array = np.array(background)\n",
    "            array[array < 170] = 0\n",
    "            array[array >= 170] = 255\n",
    "            \n",
    "            images[image.stem] = Image.fromarray(array)\n",
    "        except Exception as e:\n",
    "            print(f\"Error processing {image}: {e}\")\n",
    "    return images"
   ]
  },
  {
   "cell_type": "code",
   "execution_count": 4,
   "metadata": {},
   "outputs": [
    {
     "name": "stdout",
     "output_type": "stream",
     "text": [
      "Loading candidates...\n"
     ]
    },
    {
     "name": "stderr",
     "output_type": "stream",
     "text": [
      "100%|██████████| 2863/2863 [00:06<00:00, 456.25it/s]\n"
     ]
    },
    {
     "name": "stdout",
     "output_type": "stream",
     "text": [
      "Loading references...\n"
     ]
    },
    {
     "name": "stderr",
     "output_type": "stream",
     "text": [
      " 72%|███████▏  | 2308/3192 [00:07<00:02, 299.45it/s]"
     ]
    },
    {
     "name": "stdout",
     "output_type": "stream",
     "text": [
      "Error processing glossen\\06533.png: cannot identify image file 'C:\\\\Users\\\\sarah\\\\Desktop\\\\Thesis\\\\signwriting-illustration\\\\datasets\\\\Vokabeltrainer\\\\glossen\\\\06533.png'\n"
     ]
    },
    {
     "name": "stderr",
     "output_type": "stream",
     "text": [
      "100%|██████████| 3192/3192 [00:09<00:00, 319.44it/s]"
     ]
    },
    {
     "name": "stdout",
     "output_type": "stream",
     "text": [
      "Error processing glossen\\09372.png: cannot identify image file 'C:\\\\Users\\\\sarah\\\\Desktop\\\\Thesis\\\\signwriting-illustration\\\\datasets\\\\Vokabeltrainer\\\\glossen\\\\09372.png'\n",
      "Candidates: 2863\n",
      "References: 3190\n",
      "\n",
      "Example loaded images:\n",
      "\n",
      "Reference 1:\n",
      "  Key: 00001\n",
      "  Image mode: RGBA\n",
      "  Image size: (256, 256)\n",
      "  Unique pixel values: [  0 255]\n"
     ]
    },
    {
     "name": "stderr",
     "output_type": "stream",
     "text": [
      "\n"
     ]
    },
    {
     "data": {
      "image/png": "[encoded data removed]",
      "text/plain": [
       "<PIL.Image.Image image mode=RGBA size=256x256>"
      ]
     },
     "metadata": {},
     "output_type": "display_data"
    },
    {
     "name": "stdout",
     "output_type": "stream",
     "text": [
      "\n",
      "Reference 2:\n",
      "  Key: 00004\n",
      "  Image mode: RGBA\n",
      "  Image size: (256, 256)\n",
      "  Unique pixel values: [  0 255]\n"
     ]
    },
    {
     "data": {
      "image/png": "[encoded data removed]",
      "text/plain": [
       "<PIL.Image.Image image mode=RGBA size=256x256>"
      ]
     },
     "metadata": {},
     "output_type": "display_data"
    },
    {
     "name": "stdout",
     "output_type": "stream",
     "text": [
      "\n",
      "Reference 3:\n",
      "  Key: 00006\n",
      "  Image mode: RGBA\n",
      "  Image size: (256, 256)\n",
      "  Unique pixel values: [  0 255]\n"
     ]
    },
    {
     "data": {
      "image/png": "[encoded data removed]",
      "text/plain": [
       "<PIL.Image.Image image mode=RGBA size=256x256>"
      ]
     },
     "metadata": {},
     "output_type": "display_data"
    },
    {
     "name": "stdout",
     "output_type": "stream",
     "text": [
      "\n",
      "Example candidate images:\n",
      "\n",
      "Candidate 1:\n",
      "  Key: 003074d3897bbb36750a04ab4c4415b1\n",
      "  Image mode: L\n",
      "  Image size: (256, 256)\n",
      "  Unique pixel values: [  0 255]\n"
     ]
    },
    {
     "data": {
      "image/png": "[encoded data removed]",
      "text/plain": [
       "<PIL.Image.Image image mode=L size=256x256>"
      ]
     },
     "metadata": {},
     "output_type": "display_data"
    },
    {
     "name": "stdout",
     "output_type": "stream",
     "text": [
      "\n",
      "Candidate 2:\n",
      "  Key: 0031d7f23b834952f58ceb4449a06dd3\n",
      "  Image mode: L\n",
      "  Image size: (256, 256)\n",
      "  Unique pixel values: [  0 255]\n"
     ]
    },
    {
     "data": {
      "image/png": "[encoded data removed]",
      "text/plain": [
       "<PIL.Image.Image image mode=L size=256x256>"
      ]
     },
     "metadata": {},
     "output_type": "display_data"
    },
    {
     "name": "stdout",
     "output_type": "stream",
     "text": [
      "\n",
      "Candidate 3:\n",
      "  Key: 004da87e4a1b99f87ce72ea54f8cd291\n",
      "  Image mode: L\n",
      "  Image size: (256, 256)\n",
      "  Unique pixel values: [  0 255]\n"
     ]
    },
    {
     "data": {
      "image/png": "[encoded data removed]",
      "text/plain": [
       "<PIL.Image.Image image mode=L size=256x256>"
      ]
     },
     "metadata": {},
     "output_type": "display_data"
    }
   ],
   "source": [
    "# load images\n",
    "\n",
    "candidate_directory = Path(\"../../train/B\")\n",
    "reference_directory = Path(\"glossen\")\n",
    "\n",
    "print(\"Loading candidates...\")\n",
    "candidates = load_candidate_images(candidate_directory)\n",
    "print(\"Loading references...\")\n",
    "references = load_gold_images(reference_directory)\n",
    "\n",
    "print(\"Candidates:\", len(candidates))\n",
    "print(\"References:\", len(references))\n",
    "\n",
    "# 3 example outputs for loaded images\n",
    "print(\"\\nExample loaded images:\")\n",
    "for i, (key, img) in enumerate(list(references.items())[:3]):\n",
    "    print(f\"\\nReference {i+1}:\")\n",
    "    print(f\"  Key: {key}\")\n",
    "    print(f\"  Image mode: {img.mode}\")\n",
    "    print(f\"  Image size: {img.size}\")\n",
    "    print(f\"  Unique pixel values: {np.unique(np.array(img))}\")\n",
    "    display(img)\n",
    "\n",
    "print(\"\\nExample candidate images:\")\n",
    "for i, (key, img) in enumerate(list(candidates.items())[:3]):\n",
    "    print(f\"\\nCandidate {i+1}:\")\n",
    "    print(f\"  Key: {key}\")\n",
    "    print(f\"  Image mode: {img.mode}\")\n",
    "    print(f\"  Image size: {img.size}\")\n",
    "    print(f\"  Unique pixel values: {np.unique(np.array(img))}\")\n",
    "    display(img)"
   ]
  },
  {
   "cell_type": "code",
   "execution_count": 5,
   "metadata": {},
   "outputs": [
    {
     "name": "stderr",
     "output_type": "stream",
     "text": [
      "c:\\Users\\sarah\\AppData\\Local\\Programs\\Python\\Python310\\lib\\site-packages\\huggingface_hub\\file_download.py:1132: FutureWarning: `resume_download` is deprecated and will be removed in version 1.0.0. Downloads always resume when possible. If you want to force a new download, use `force_download=True`.\n",
      "  warnings.warn(\n"
     ]
    },
    {
     "name": "stdout",
     "output_type": "stream",
     "text": [
      "Using cache directory: C:\\Users\\sarah\\AppData\\Local\\Temp/clip_cache\n",
      "Processing candidate images...\n"
     ]
    },
    {
     "name": "stderr",
     "output_type": "stream",
     "text": [
      "100%|██████████| 2863/2863 [00:05<00:00, 545.12it/s]\n"
     ]
    },
    {
     "name": "stdout",
     "output_type": "stream",
     "text": [
      "Processing reference images...\n"
     ]
    },
    {
     "name": "stderr",
     "output_type": "stream",
     "text": [
      "100%|██████████| 3190/3190 [00:06<00:00, 506.88it/s]\n"
     ]
    },
    {
     "name": "stdout",
     "output_type": "stream",
     "text": [
      "\n",
      "Calculating CLIP scores...\n"
     ]
    },
    {
     "name": "stderr",
     "output_type": "stream",
     "text": [
      "Loading features cache: 100%|██████████| 3190/3190 [00:02<00:00, 1147.37it/s]\n",
      "Loading features cache: 100%|██████████| 2863/2863 [00:02<00:00, 1212.40it/s]\n"
     ]
    }
   ],
   "source": [
    "def signwriting_to_clip_image(img):\n",
    "    if img.mode != 'RGB':\n",
    "        img = img.convert('RGB')\n",
    "    \n",
    "    # correct sizing for CLIP\n",
    "    if img.size != (224, 224):\n",
    "        img = img.resize((224, 224))\n",
    "    \n",
    "    return img\n",
    "\n",
    "# initialize clip score\n",
    "clip_score = SignWritingCLIPScore()\n",
    "candidate_keys = list(candidates.keys())\n",
    "\n",
    "print(\"Processing candidate images...\")\n",
    "candidate_images = [signwriting_to_clip_image(img) for img in tqdm(candidates.values())]\n",
    "print(\"Processing reference images...\")\n",
    "reference_images = [signwriting_to_clip_image(img) for img in tqdm(references.values())]\n",
    "\n",
    "print(\"\\nCalculating CLIP scores...\")\n",
    "all_scores = clip_score.score_all(reference_images, candidate_images)"
   ]
  },
  {
   "cell_type": "code",
   "execution_count": 6,
   "metadata": {},
   "outputs": [
    {
     "name": "stderr",
     "output_type": "stream",
     "text": [
      "100%|██████████| 3190/3190 [00:34<00:00, 91.49it/s] \n"
     ]
    }
   ],
   "source": [
    "# main comparison loop\n",
    "\n",
    "matches_dir = Path(\"score_matches\")\n",
    "matches_dir.mkdir(parents=True, exist_ok=True)\n",
    "\n",
    "for i, (stem, scores) in tqdm(list(enumerate(zip(references.keys(), all_scores)))):\n",
    "    argmax = np.argmax(scores)\n",
    "    best_score = scores[argmax]\n",
    "    \n",
    "    # perfect match indicates empty image, skip\n",
    "    if best_score > 0.99:\n",
    "        if np.all(np.array(signwriting_to_clip_image(reference_images[i])) == 255):\n",
    "            continue\n",
    "    \n",
    "    side_by_side = create_side_by_side_comparison(\n",
    "        references[stem],\n",
    "        candidates[candidate_keys[argmax]],\n",
    "        best_score,\n",
    "        stem,\n",
    "        candidate_keys[argmax]\n",
    "    )\n",
    "    side_by_side.save(matches_dir / f\"{stem}_comparison.png\")"
   ]
  },
  {
   "cell_type": "code",
   "execution_count": 7,
   "metadata": {},
   "outputs": [
    {
     "data": {
      "image/png": "[encoded data removed]",
      "text/plain": [
       "<PIL.Image.Image image mode=RGB size=512x256>"
      ]
     },
     "metadata": {},
     "output_type": "display_data"
    },
    {
     "name": "stderr",
     "output_type": "stream",
     "text": [
      " 98%|█████████▊| 3124/3190 [14:21<00:05, 11.89it/s]"
     ]
    },
    {
     "name": "stdout",
     "output_type": "stream",
     "text": [
      "Manually accepted match for 09074\n"
     ]
    },
    {
     "name": "stderr",
     "output_type": "stream",
     "text": [
      "100%|██████████| 3190/3190 [14:22<00:00,  3.70it/s]"
     ]
    },
    {
     "name": "stdout",
     "output_type": "stream",
     "text": [
      "Total matches found: 2797\n",
      "Total manual reviews: 298\n"
     ]
    },
    {
     "name": "stderr",
     "output_type": "stream",
     "text": [
      "\n"
     ]
    }
   ],
   "source": [
    "# final matching loop \n",
    "\n",
    "matches_dir = Path(\"matches\")\n",
    "matches_dir.mkdir(parents=True, exist_ok=True)\n",
    "\n",
    "has_matches = 0\n",
    "manual_reviews = 0\n",
    "\n",
    "for i, (stem, reference) in enumerate(tqdm(list(references.items()), position=0, leave=True)):\n",
    "    scores = all_scores[i] \n",
    "    best_score_idx = np.argmax(scores)\n",
    "    best_score = scores[best_score_idx]\n",
    "    \n",
    "    # perfect match indicates empty image, skip\n",
    "    if best_score > 0.99:\n",
    "        if np.all(np.array(signwriting_to_clip_image(reference)) == 255):\n",
    "            continue\n",
    "    \n",
    "    save_match = False        \n",
    "    if 0.97 <= best_score < 0.98:  # manual review range\n",
    "        manual_reviews += 1\n",
    "        best_candidate_key = candidate_keys[best_score_idx]\n",
    "        best_candidate = candidates[best_candidate_key]\n",
    "        \n",
    "        review_result = manual_review(reference, best_candidate, best_score, stem, best_candidate_key)\n",
    "        if review_result:\n",
    "            save_match = True\n",
    "            has_matches += 1\n",
    "            print(f\"Manually accepted match for {stem}\")\n",
    "    elif best_score > 0.93:  # automatic acceptance threshold\n",
    "        save_match = True\n",
    "        has_matches += 1\n",
    "    \n",
    "    if save_match:\n",
    "        best_candidate_key = candidate_keys[best_score_idx]\n",
    "        best_candidate = candidates[best_candidate_key]\n",
    "        \n",
    "        side_by_side = create_side_by_side_comparison(\n",
    "            reference,\n",
    "            best_candidate,\n",
    "            best_score,\n",
    "            stem,\n",
    "            best_candidate_key\n",
    "        )\n",
    "        side_by_side.save(matches_dir / f\"{stem}.png\")\n",
    "\n",
    "print(f\"Total matches found: {has_matches}\")\n",
    "print(f\"Total manual reviews: {manual_reviews}\")"
   ]
  }
 ],
 "metadata": {
  "kernelspec": {
   "display_name": "Python 3",
   "language": "python",
   "name": "python3"
  },
  "language_info": {
   "codemirror_mode": {
    "name": "ipython",
    "version": 3
   },
   "file_extension": ".py",
   "mimetype": "text/x-python",
   "name": "python",
   "nbconvert_exporter": "python",
   "pygments_lexer": "ipython3",
   "version": "3.10.6"
  }
 },
 "nbformat": 4,
 "nbformat_minor": 2
}
